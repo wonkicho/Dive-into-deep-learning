{
  "nbformat": 4,
  "nbformat_minor": 0,
  "metadata": {
    "colab": {
      "name": "Pooling.ipynb",
      "provenance": []
    },
    "kernelspec": {
      "name": "python3",
      "display_name": "Python 3"
    },
    "language_info": {
      "name": "python"
    },
    "accelerator": "GPU"
  },
  "cells": [
    {
      "cell_type": "code",
      "metadata": {
        "id": "F0KUHHz5A-U9"
      },
      "source": [
        "import torch\n",
        "from torch import nn\n",
        "from d2l import torch as d2l"
      ],
      "execution_count": 2,
      "outputs": []
    },
    {
      "cell_type": "markdown",
      "metadata": {
        "id": "GYSKQu5XBgn5"
      },
      "source": [
        "## 1. Maximum, Avg pooling\n",
        "![image.png](data:image/png;base64,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)"
      ]
    },
    {
      "cell_type": "code",
      "metadata": {
        "id": "rxRIK6BVBM3J"
      },
      "source": [
        "def pool2d(X, pool_size, mode = \"max\"):\n",
        "  p_h, p_w = pool_size\n",
        "  Y = torch.zeros((X.shape[0] - p_h + 1, X.shape[1] - p_w + 1))\n",
        "  for i in range(Y.shape[0]):\n",
        "    for j in range(Y.shape[1]):\n",
        "      if mode == \"max\":\n",
        "        Y[i, j] = X[i:i + p_h, j : j + p_w].max()\n",
        "      elif mode == 'avg':\n",
        "        Y[i, j] = X[i:i + p_h, j : j + p_w].mean()\n",
        "  return Y"
      ],
      "execution_count": 3,
      "outputs": []
    },
    {
      "cell_type": "code",
      "metadata": {
        "colab": {
          "base_uri": "https://localhost:8080/"
        },
        "id": "6_Q3h5XACJ2J",
        "outputId": "244146ab-0820-43a3-a453-3145af638f63"
      },
      "source": [
        "X = torch.tensor([[0.0, 1.0, 2.0], [3.0, 4.0, 5.0], [6.0, 7.0, 8.0]])\n",
        "pool2d(X, (2, 2))"
      ],
      "execution_count": 4,
      "outputs": [
        {
          "output_type": "execute_result",
          "data": {
            "text/plain": [
              "tensor([[4., 5.],\n",
              "        [7., 8.]])"
            ]
          },
          "metadata": {},
          "execution_count": 4
        }
      ]
    },
    {
      "cell_type": "code",
      "metadata": {
        "colab": {
          "base_uri": "https://localhost:8080/"
        },
        "id": "qbOaPmtgCRdx",
        "outputId": "9f407628-defd-4617-9626-b418c55d9ce6"
      },
      "source": [
        "pool2d(X, (2, 2), 'avg')"
      ],
      "execution_count": 5,
      "outputs": [
        {
          "output_type": "execute_result",
          "data": {
            "text/plain": [
              "tensor([[2., 3.],\n",
              "        [5., 6.]])"
            ]
          },
          "metadata": {},
          "execution_count": 5
        }
      ]
    },
    {
      "cell_type": "markdown",
      "metadata": {
        "id": "9JiDhRiUFoY0"
      },
      "source": [
        "## 2. Padding and Stride"
      ]
    },
    {
      "cell_type": "code",
      "metadata": {
        "colab": {
          "base_uri": "https://localhost:8080/"
        },
        "id": "AmssLQXiFn1A",
        "outputId": "554f6710-bf39-46ef-ddeb-fab8818b294f"
      },
      "source": [
        "X = torch.arange(16, dtype = torch.float32).reshape((1,1,4,4))\n",
        "X"
      ],
      "execution_count": 6,
      "outputs": [
        {
          "output_type": "execute_result",
          "data": {
            "text/plain": [
              "tensor([[[[ 0.,  1.,  2.,  3.],\n",
              "          [ 4.,  5.,  6.,  7.],\n",
              "          [ 8.,  9., 10., 11.],\n",
              "          [12., 13., 14., 15.]]]])"
            ]
          },
          "metadata": {},
          "execution_count": 6
        }
      ]
    },
    {
      "cell_type": "code",
      "metadata": {
        "colab": {
          "base_uri": "https://localhost:8080/"
        },
        "id": "2NpsENvcDbuZ",
        "outputId": "4a7d8963-ad8c-4ad2-df21-fd574c0ab7b5"
      },
      "source": [
        "pool2d = nn.MaxPool2d(3)\n",
        "pool2d(X)"
      ],
      "execution_count": 7,
      "outputs": [
        {
          "output_type": "execute_result",
          "data": {
            "text/plain": [
              "tensor([[[[10.]]]])"
            ]
          },
          "metadata": {},
          "execution_count": 7
        }
      ]
    },
    {
      "cell_type": "code",
      "metadata": {
        "colab": {
          "base_uri": "https://localhost:8080/"
        },
        "id": "MczzMzauFxVv",
        "outputId": "102e78b9-d544-4bb8-d44d-0c70593be9a8"
      },
      "source": [
        "pool2d = nn.MaxPool2d(3, padding=1, stride=2)\n",
        "pool2d(X)"
      ],
      "execution_count": 8,
      "outputs": [
        {
          "output_type": "execute_result",
          "data": {
            "text/plain": [
              "tensor([[[[ 5.,  7.],\n",
              "          [13., 15.]]]])"
            ]
          },
          "metadata": {},
          "execution_count": 8
        }
      ]
    },
    {
      "cell_type": "code",
      "metadata": {
        "colab": {
          "base_uri": "https://localhost:8080/"
        },
        "id": "xJ_HWuBWF44W",
        "outputId": "9a4d209a-9abe-4247-b5e1-8484705453e8"
      },
      "source": [
        "pool2d = nn.MaxPool2d((2, 3), stride=(2, 3), padding=(0, 1))\n",
        "pool2d(X)"
      ],
      "execution_count": 9,
      "outputs": [
        {
          "output_type": "execute_result",
          "data": {
            "text/plain": [
              "tensor([[[[ 5.,  7.],\n",
              "          [13., 15.]]]])"
            ]
          },
          "metadata": {},
          "execution_count": 9
        }
      ]
    },
    {
      "cell_type": "markdown",
      "metadata": {
        "id": "suUrOJnDGFdy"
      },
      "source": [
        "## 3. Multiple Channels"
      ]
    },
    {
      "cell_type": "code",
      "metadata": {
        "colab": {
          "base_uri": "https://localhost:8080/"
        },
        "id": "ifIRa_toF-wX",
        "outputId": "0f2929bb-b7b5-4f99-9c6e-bad4c808b0d0"
      },
      "source": [
        "X = torch.cat((X, X + 1), 1)\n",
        "X"
      ],
      "execution_count": 10,
      "outputs": [
        {
          "output_type": "execute_result",
          "data": {
            "text/plain": [
              "tensor([[[[ 0.,  1.,  2.,  3.],\n",
              "          [ 4.,  5.,  6.,  7.],\n",
              "          [ 8.,  9., 10., 11.],\n",
              "          [12., 13., 14., 15.]],\n",
              "\n",
              "         [[ 1.,  2.,  3.,  4.],\n",
              "          [ 5.,  6.,  7.,  8.],\n",
              "          [ 9., 10., 11., 12.],\n",
              "          [13., 14., 15., 16.]]]])"
            ]
          },
          "metadata": {},
          "execution_count": 10
        }
      ]
    },
    {
      "cell_type": "code",
      "metadata": {
        "colab": {
          "base_uri": "https://localhost:8080/"
        },
        "id": "PsPowajAGLqR",
        "outputId": "24609a05-f9bf-498f-a43d-598b4d9549b2"
      },
      "source": [
        "pool2d = nn.MaxPool2d(3, padding = 1, stride = 2)\n",
        "pool2d(X)"
      ],
      "execution_count": 11,
      "outputs": [
        {
          "output_type": "execute_result",
          "data": {
            "text/plain": [
              "tensor([[[[ 5.,  7.],\n",
              "          [13., 15.]],\n",
              "\n",
              "         [[ 6.,  8.],\n",
              "          [14., 16.]]]])"
            ]
          },
          "metadata": {},
          "execution_count": 11
        }
      ]
    },
    {
      "cell_type": "code",
      "metadata": {
        "id": "xVVMRgidGQgw"
      },
      "source": [
        ""
      ],
      "execution_count": null,
      "outputs": []
    }
  ]
}
